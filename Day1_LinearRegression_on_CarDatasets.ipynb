{
 "cells": [
  {
   "cell_type": "markdown",
   "id": "ef344880",
   "metadata": {},
   "source": [
    "The objective of this project is to use linear regression Machine Learning algorithm on a car sales data. "
   ]
  },
  {
   "cell_type": "markdown",
   "id": "ddcaec0f",
   "metadata": {},
   "source": [
    "Import all the necessary libraries"
   ]
  },
  {
   "cell_type": "code",
   "execution_count": 2,
   "id": "48637088",
   "metadata": {},
   "outputs": [],
   "source": [
    "import pandas as pd\n",
    "import numpy as np\n",
    "import seaborn as sns\n",
    "import matplotlib.pyplot as plt\n",
    "import time\n",
    "import seaborn as sns\n",
    "\n",
    "from sklearn.pipeline import make_pipeline\n",
    "from sklearn.model_selection import train_test_split\n",
    "from sklearn.linear_model import LogisticRegression\n",
    "from sklearn.linear_model import LinearRegression\n",
    "\n",
    "from sklearn.metrics import mean_squared_error\n",
    "from sklearn.metrics import mean_absolute_error\n",
    "from sklearn.metrics import mean_absolute_percentage_error\n",
    "from sklearn.metrics import r2_score\n",
    "from sklearn.preprocessing import MinMaxScaler\n"
   ]
  },
  {
   "cell_type": "code",
   "execution_count": 3,
   "id": "5ff7851a",
   "metadata": {},
   "outputs": [
    {
     "name": "stdout",
     "output_type": "stream",
     "text": [
      "   Unnamed: 0       brand              model  color registration_date  year  \\\n",
      "0           0  alfa-romeo     Alfa Romeo GTV    red           10/1995  1995   \n",
      "1           1  alfa-romeo     Alfa Romeo 164  black           02/1995  1995   \n",
      "2           2  alfa-romeo  Alfa Romeo Spider  black           02/1995  1995   \n",
      "3           3  alfa-romeo  Alfa Romeo Spider  black           07/1995  1995   \n",
      "4           4  alfa-romeo     Alfa Romeo 164    red           11/1996  1996   \n",
      "\n",
      "  price_in_euro power_kw power_ps transmission_type fuel_type  \\\n",
      "0          1300      148      201            Manual    Petrol   \n",
      "1         24900      191      260            Manual    Petrol   \n",
      "2          5900      110      150           Unknown    Petrol   \n",
      "3          4900      110      150            Manual    Petrol   \n",
      "4         17950      132      179            Manual    Petrol   \n",
      "\n",
      "  fuel_consumption_l_100km fuel_consumption_g_km  mileage_in_km  \\\n",
      "0            10,9 l/100 km              260 g/km       160500.0   \n",
      "1                      NaN              - (g/km)       190000.0   \n",
      "2                      NaN              - (g/km)       129000.0   \n",
      "3             9,5 l/100 km              225 g/km       189500.0   \n",
      "4             7,2 l/100 km              - (g/km)        96127.0   \n",
      "\n",
      "                       offer_description  \n",
      "0                              2.0 V6 TB  \n",
      "1                    Q4 Allrad, 3.2L GTA  \n",
      "2                          ALFA ROME 916  \n",
      "3                   2.0 16V Twin Spark L  \n",
      "4  3.0i Super V6, absoluter Topzustand !  \n"
     ]
    }
   ],
   "source": [
    "#read the data\n",
    "car_data = pd.read_csv(r\"D:\\kaggle_datasets\\data.csv\\data.csv\")\n",
    "print(car_data.head())                     "
   ]
  },
  {
   "cell_type": "code",
   "execution_count": 4,
   "id": "43986375",
   "metadata": {},
   "outputs": [
    {
     "name": "stdout",
     "output_type": "stream",
     "text": [
      "Index(['Unnamed: 0', 'brand', 'model', 'color', 'registration_date', 'year',\n",
      "       'price_in_euro', 'power_kw', 'power_ps', 'transmission_type',\n",
      "       'fuel_type', 'fuel_consumption_l_100km', 'fuel_consumption_g_km',\n",
      "       'mileage_in_km', 'offer_description'],\n",
      "      dtype='object')\n",
      "(251079, 15)\n"
     ]
    }
   ],
   "source": [
    "print(car_data.columns)\n",
    "print(car_data.shape)"
   ]
  },
  {
   "cell_type": "code",
   "execution_count": 5,
   "id": "71a08730",
   "metadata": {},
   "outputs": [
    {
     "name": "stdout",
     "output_type": "stream",
     "text": [
      "Unnamed: 0                      0\n",
      "brand                           0\n",
      "model                           0\n",
      "color                         166\n",
      "registration_date               4\n",
      "year                            0\n",
      "price_in_euro                   0\n",
      "power_kw                      134\n",
      "power_ps                      129\n",
      "transmission_type               0\n",
      "fuel_type                       0\n",
      "fuel_consumption_l_100km    26873\n",
      "fuel_consumption_g_km           0\n",
      "mileage_in_km                 152\n",
      "offer_description               1\n",
      "dtype: int64\n"
     ]
    }
   ],
   "source": [
    "print(car_data.isnull().sum())"
   ]
  },
  {
   "cell_type": "code",
   "execution_count": 6,
   "id": "c90d4bf7",
   "metadata": {},
   "outputs": [
    {
     "name": "stdout",
     "output_type": "stream",
     "text": [
      "<class 'pandas.core.frame.DataFrame'>\n",
      "RangeIndex: 251079 entries, 0 to 251078\n",
      "Data columns (total 15 columns):\n",
      " #   Column                    Non-Null Count   Dtype  \n",
      "---  ------                    --------------   -----  \n",
      " 0   Unnamed: 0                251079 non-null  int64  \n",
      " 1   brand                     251079 non-null  object \n",
      " 2   model                     251079 non-null  object \n",
      " 3   color                     250913 non-null  object \n",
      " 4   registration_date         251075 non-null  object \n",
      " 5   year                      251079 non-null  object \n",
      " 6   price_in_euro             251079 non-null  object \n",
      " 7   power_kw                  250945 non-null  object \n",
      " 8   power_ps                  250950 non-null  object \n",
      " 9   transmission_type         251079 non-null  object \n",
      " 10  fuel_type                 251079 non-null  object \n",
      " 11  fuel_consumption_l_100km  224206 non-null  object \n",
      " 12  fuel_consumption_g_km     251079 non-null  object \n",
      " 13  mileage_in_km             250927 non-null  float64\n",
      " 14  offer_description         251078 non-null  object \n",
      "dtypes: float64(1), int64(1), object(13)\n",
      "memory usage: 28.7+ MB\n",
      "None\n"
     ]
    }
   ],
   "source": [
    "print(car_data.info())"
   ]
  },
  {
   "cell_type": "code",
   "execution_count": 7,
   "id": "f27a1fc8",
   "metadata": {},
   "outputs": [
    {
     "name": "stdout",
     "output_type": "stream",
     "text": [
      "166\n"
     ]
    }
   ],
   "source": [
    "print(car_data['color'].isnull().sum())\n",
    "car_data=car_data.fillna(car_data.mean(numeric_only=True))"
   ]
  },
  {
   "cell_type": "code",
   "execution_count": 8,
   "id": "cdbd9089",
   "metadata": {},
   "outputs": [],
   "source": [
    "columns_to_fix = ['price_in_euro','power_ps', 'power_kw', 'mileage_in_km', 'fuel_consumption_g_km']  # your list\n",
    "\n",
    "for col in columns_to_fix:\n",
    "    # Convert to numeric (handles strings like '123', '123.5', etc. and turns bad ones into NaN)\n",
    "    car_data[col] = pd.to_numeric(car_data[col], errors='coerce')\n",
    "    \n",
    "    # Fill missing values with the column mean\n",
    "    car_data[col] = car_data[col].fillna(car_data[col].mean())\n"
   ]
  },
  {
   "cell_type": "code",
   "execution_count": 9,
   "id": "1b367158",
   "metadata": {},
   "outputs": [
    {
     "name": "stdout",
     "output_type": "stream",
     "text": [
      "<class 'pandas.core.frame.DataFrame'>\n",
      "RangeIndex: 251079 entries, 0 to 251078\n",
      "Data columns (total 15 columns):\n",
      " #   Column                    Non-Null Count   Dtype  \n",
      "---  ------                    --------------   -----  \n",
      " 0   Unnamed: 0                251079 non-null  int64  \n",
      " 1   brand                     251079 non-null  object \n",
      " 2   model                     251079 non-null  object \n",
      " 3   color                     250913 non-null  object \n",
      " 4   registration_date         251075 non-null  object \n",
      " 5   year                      251079 non-null  object \n",
      " 6   price_in_euro             251079 non-null  float64\n",
      " 7   power_kw                  251079 non-null  float64\n",
      " 8   power_ps                  251079 non-null  float64\n",
      " 9   transmission_type         251079 non-null  object \n",
      " 10  fuel_type                 251079 non-null  object \n",
      " 11  fuel_consumption_l_100km  224206 non-null  object \n",
      " 12  fuel_consumption_g_km     251079 non-null  float64\n",
      " 13  mileage_in_km             251079 non-null  float64\n",
      " 14  offer_description         251078 non-null  object \n",
      "dtypes: float64(5), int64(1), object(9)\n",
      "memory usage: 28.7+ MB\n",
      "None\n"
     ]
    }
   ],
   "source": [
    "print(car_data.info())"
   ]
  },
  {
   "cell_type": "code",
   "execution_count": 10,
   "id": "c7d93cb9",
   "metadata": {},
   "outputs": [
    {
     "name": "stdout",
     "output_type": "stream",
     "text": [
      "Unnamed: 0                      0\n",
      "brand                           0\n",
      "model                           0\n",
      "color                         166\n",
      "registration_date               4\n",
      "year                            0\n",
      "price_in_euro                   0\n",
      "power_kw                        0\n",
      "power_ps                        0\n",
      "transmission_type               0\n",
      "fuel_type                       0\n",
      "fuel_consumption_l_100km    26873\n",
      "fuel_consumption_g_km           0\n",
      "mileage_in_km                   0\n",
      "offer_description               1\n",
      "dtype: int64\n"
     ]
    }
   ],
   "source": [
    "print(car_data.isnull().sum())"
   ]
  },
  {
   "cell_type": "code",
   "execution_count": 11,
   "id": "f6a59668",
   "metadata": {},
   "outputs": [
    {
     "name": "stdout",
     "output_type": "stream",
     "text": [
      "['red' 'black' 'silver' 'grey' 'white' 'beige' 'blue' 'green' 'yellow'\n",
      " 'gold' 'brown' 'bronze' 'violet' 'orange' nan]\n",
      "1312\n"
     ]
    }
   ],
   "source": [
    "print(car_data['color'].unique())\n",
    "print(car_data['model'].nunique(dropna=True))"
   ]
  },
  {
   "cell_type": "code",
   "execution_count": 12,
   "id": "49ded2dc",
   "metadata": {},
   "outputs": [
    {
     "name": "stdout",
     "output_type": "stream",
     "text": [
      "['Alfa Romeo GTV' 'Alfa Romeo 164' 'Alfa Romeo Spider' ... 'Volvo XC40'\n",
      " 'Volvo C40' 'Volvo']\n",
      "1312\n"
     ]
    }
   ],
   "source": [
    "print(car_data['model'].unique())\n",
    "print(car_data['model'].nunique(dropna=True))"
   ]
  },
  {
   "cell_type": "code",
   "execution_count": 13,
   "id": "601f8c18",
   "metadata": {},
   "outputs": [
    {
     "name": "stdout",
     "output_type": "stream",
     "text": [
      "brand\n",
      "volkswagen       33281\n",
      "mercedes-benz    27226\n",
      "audi             21161\n",
      "opel             20388\n",
      "bmw              19810\n",
      "ford             18790\n",
      "skoda            14039\n",
      "seat             11949\n",
      "renault           8694\n",
      "toyota            8228\n",
      "hyundai           6989\n",
      "peugeot           5848\n",
      "kia               5734\n",
      "fiat              5039\n",
      "mini              4295\n",
      "mazda             4211\n",
      "volvo             4164\n",
      "citroen           4083\n",
      "porsche           3958\n",
      "nissan            3784\n",
      "dacia             3367\n",
      "land-rover        3073\n",
      "jeep              1749\n",
      "smart             1643\n",
      "alfa-romeo        1437\n",
      "jaguar            1398\n",
      "mitsubishi         934\n",
      "honda              785\n",
      "maserati           698\n",
      "dodge              669\n",
      "ferrari            590\n",
      "bentley            541\n",
      "lamborghini        361\n",
      "ssangyong          342\n",
      "aston-martin       277\n",
      "saab               233\n",
      "isuzu              206\n",
      "daihatsu           204\n",
      "chevrolet          191\n",
      "lada               191\n",
      "cadillac           157\n",
      "infiniti           112\n",
      "lancia             105\n",
      "daewoo              61\n",
      "rover               51\n",
      "chrysler            32\n",
      "proton               1\n",
      "Name: count, dtype: int64\n"
     ]
    }
   ],
   "source": [
    "print(car_data['brand'].value_counts())"
   ]
  },
  {
   "cell_type": "code",
   "execution_count": 14,
   "id": "38df1843",
   "metadata": {},
   "outputs": [
    {
     "name": "stdout",
     "output_type": "stream",
     "text": [
      "       Unnamed: 0 brand       model   color registration_date  year  \\\n",
      "1714         1714  audi     Audi A4  silver           08/1997  1997   \n",
      "1715         1715  audi     Audi A4  silver           09/1997  1997   \n",
      "1716         1716  audi     Audi A4  silver           12/1997  1997   \n",
      "1717         1717  audi     Audi A4  silver           06/1997  1997   \n",
      "1718         1718  audi     Audi A3  silver           05/1997  1997   \n",
      "...           ...   ...         ...     ...               ...   ...   \n",
      "22870       22870  audi  Audi TT RS  orange           01/2023  2023   \n",
      "22871       22871  audi     Audi Q3  orange           05/2023  2023   \n",
      "22872       22872  audi     Audi Q3  orange           05/2023  2023   \n",
      "22873       22873  audi     Audi Q3  orange           05/2023  2023   \n",
      "22874       22874  audi    Audi RS3    gold           04/2023  2023   \n",
      "\n",
      "       price_in_euro  power_kw  power_ps transmission_type fuel_type  \\\n",
      "1714          1999.0      66.0      90.0            Manual    Diesel   \n",
      "1715          1250.0      74.0     101.0            Manual    Petrol   \n",
      "1716          1250.0      74.0     101.0            Manual    Petrol   \n",
      "1717          1900.0      74.0     101.0            Manual    Petrol   \n",
      "1718           850.0      92.0     125.0            Manual    Petrol   \n",
      "...              ...       ...       ...               ...       ...   \n",
      "22870        86850.0     294.0     400.0         Automatic    Petrol   \n",
      "22871        55288.0     147.0     200.0         Automatic    Diesel   \n",
      "22872        55180.0     147.0     200.0         Automatic    Diesel   \n",
      "22873        55488.0     147.0     200.0         Automatic    Diesel   \n",
      "22874        79800.0     294.0     400.0         Automatic    Petrol   \n",
      "\n",
      "      fuel_consumption_l_100km  fuel_consumption_g_km  mileage_in_km  \\\n",
      "1714              5,4 l/100 km            2016.408163       231000.0   \n",
      "1715              6,9 l/100 km            2016.408163       197000.0   \n",
      "1716              7,9 l/100 km            2016.408163       287350.0   \n",
      "1717              7,9 l/100 km            2016.408163       180000.0   \n",
      "1718              8,5 l/100 km            2016.408163       340000.0   \n",
      "...                        ...                    ...            ...   \n",
      "22870             8,9 l/100 km            2016.408163         3000.0   \n",
      "22871             5,2 l/100 km            2016.408163           10.0   \n",
      "22872             5,2 l/100 km            2016.408163           10.0   \n",
      "22873             5,2 l/100 km            2016.408163           10.0   \n",
      "22874                      NaN            2016.408163         2000.0   \n",
      "\n",
      "                                       offer_description  \n",
      "1714                             1.9 TDI / AHK / Tüv neu  \n",
      "1715            1.6, TÜV 11/23, von Rentnern, Scheckheft  \n",
      "1716      B5 Limo 1.6 TÜV NEU 01/25 FL Motor/Ausstattung  \n",
      "1717                                                 1.6  \n",
      "1718                                 1.8 Attraction (8L)  \n",
      "...                                                  ...  \n",
      "22870          Coupe 294(400) kW(PS) S tronic Navi Leder  \n",
      "22871                40TDI quattr S tronic 2xS line Pano  \n",
      "22872  Sportback S line 40TDI quattr tronic 2xS Pano ...  \n",
      "22873                40TDI quattr S tronic 2xS line Pano  \n",
      "22874            SPORTBACK  *DYNAMIK*KERAMIK*HEAD-UP*B&O  \n",
      "\n",
      "[21161 rows x 15 columns]\n"
     ]
    }
   ],
   "source": [
    "car_data_audi=car_data[car_data['brand'] == 'audi']\n",
    "print(car_data_audi)"
   ]
  },
  {
   "cell_type": "code",
   "execution_count": 15,
   "id": "4250ec62",
   "metadata": {},
   "outputs": [
    {
     "name": "stdout",
     "output_type": "stream",
     "text": [
      "<bound method Series.unique of 1714        Audi A4\n",
      "1715        Audi A4\n",
      "1716        Audi A4\n",
      "1717        Audi A4\n",
      "1718        Audi A3\n",
      "            ...    \n",
      "22870    Audi TT RS\n",
      "22871       Audi Q3\n",
      "22872       Audi Q3\n",
      "22873       Audi Q3\n",
      "22874      Audi RS3\n",
      "Name: model, Length: 21161, dtype: object>\n",
      "[ 90.         101.         125.         165.         110.\n",
      " 299.         340.         150.         193.         224.\n",
      " 209.         179.         310.         230.         260.\n",
      " 265.         102.         170.         360.          75.\n",
      " 252.         174.         116.         250.         381.\n",
      " 131.         155.         171.80952609  61.         163.\n",
      " 220.         320.         181.         105.         450.\n",
      " 344.         334.         140.         280.         262.\n",
      " 275.         190.         177.         182.         103.\n",
      " 232.         507.         211.         256.         173.\n",
      " 510.         480.         200.         204.         306.\n",
      " 349.         133.         239.         162.         326.\n",
      " 435.         479.         420.         286.         145.\n",
      " 160.         290.         354.         143.         300.\n",
      " 272.         266.         120.         408.         124.\n",
      " 579.         231.         245.         333.         364.\n",
      " 465.         500.         241.         136.         199.\n",
      " 390.         238.         400.         330.         371.\n",
      "  86.         122.         351.         525.         271.\n",
      " 194.         117.         619.         382.         430.\n",
      " 560.         419.         185.         279.         600.\n",
      " 680.         313.         508.         519.         640.\n",
      " 470.         141.         167.         581.         156.\n",
      " 411.         258.         184.         455.         385.\n",
      " 799.         540.         370.         367.         218.\n",
      " 591.         549.         247.         377.         201.\n",
      " 374.         421.         424.         409.         570.\n",
      " 610.          95.         462.         379.         551.\n",
      " 700.         311.         730.         192.         460.\n",
      " 368.         666.         144.         223.         605.\n",
      " 305.         443.         710.         426.         219.\n",
      "  82.         706.         325.         392.         708.\n",
      " 111.          97.         324.         329.         186.\n",
      " 736.         401.         151.         760.         530.\n",
      " 850.         625.         469.         515.         650.\n",
      " 347.         221.         620.         197.         719.\n",
      " 215.         383.         503.         571.         538.\n",
      " 555.         489.         449.         810.         476.\n",
      " 207.         740.         341.         598.         801.\n",
      " 646.         644.         504.         751.         318.\n",
      " 630.         499.         529.        ]\n",
      "['Manual' 'Automatic' 'Semi-automatic' 'Unknown']\n",
      "['Diesel' 'Petrol' 'LPG' 'Other' '07/2004' '74.194 km' '110.250 km'\n",
      " 'Hybrid' '06/2014' 'CNG' 'Diesel Hybrid' '12/2016' 'Automatic' 'Electric'\n",
      " '12/2019' 'Unknown' '06/2023']\n"
     ]
    }
   ],
   "source": [
    "print(car_data_audi['model'].unique)\n",
    "print(car_data_audi['power_ps'].unique())\n",
    "print(car_data_audi['transmission_type'].unique())\n",
    "print(car_data_audi['fuel_type'].unique())"
   ]
  },
  {
   "cell_type": "code",
   "execution_count": 16,
   "id": "3a843b4d",
   "metadata": {},
   "outputs": [
    {
     "name": "stdout",
     "output_type": "stream",
     "text": [
      "      Unnamed: 0 brand    model   color registration_date  year  \\\n",
      "1987        1987  audi  Audi A4  silver           01/2001  2001   \n",
      "1995        1995  audi  Audi A4    blue           07/2002  2002   \n",
      "2081        2081  audi  Audi A4  silver           08/2002  2002   \n",
      "2111        2111  audi  Audi A4  silver           10/2002  2002   \n",
      "2147        2147  audi  Audi A4    blue           02/2003  2003   \n",
      "\n",
      "      price_in_euro  power_kw  power_ps transmission_type fuel_type  \\\n",
      "1987          900.0      85.0     116.0         Automatic    Diesel   \n",
      "1995         1600.0     120.0     163.0         Automatic    Diesel   \n",
      "2081         1200.0     114.0     155.0         Automatic    Diesel   \n",
      "2111         3300.0     133.0     181.0         Automatic    Diesel   \n",
      "2147         3800.0      96.0     131.0         Automatic    Diesel   \n",
      "\n",
      "     fuel_consumption_l_100km  fuel_consumption_g_km  mileage_in_km  \\\n",
      "1987             5,3 l/100 km            2016.408163       500000.0   \n",
      "1995             7,1 l/100 km            2016.408163       232000.0   \n",
      "2081               7 l/100 km            2016.408163       211000.0   \n",
      "2111             7,6 l/100 km            2016.408163       200000.0   \n",
      "2147             5,6 l/100 km            2016.408163       265000.0   \n",
      "\n",
      "                                 offer_description  \n",
      "1987                      Avant 1.9 TDI  AUTOMATIC  \n",
      "1995                     2.5 TDI (120kW) Lim. (8E)  \n",
      "2081  2.5 TDI / Klimaautomatik / AHK / Tüv 05-2024  \n",
      "2111                         Avant 2.5 TDI quattro  \n",
      "2147                                 Avant 1.9 TDI  \n"
     ]
    }
   ],
   "source": [
    "car_data_audi = car_data_audi[(car_data_audi['model']=='Audi A4') &\\\n",
    "                          (car_data_audi['transmission_type']=='Automatic') &\\\n",
    "                            (car_data_audi['fuel_type']=='Diesel')                                                \n",
    "                          ]  \n",
    "print(car_data_audi.head())"
   ]
  },
  {
   "cell_type": "code",
   "execution_count": 17,
   "id": "3826366b",
   "metadata": {},
   "outputs": [
    {
     "name": "stdout",
     "output_type": "stream",
     "text": [
      "(1378, 15)\n",
      "Index(['Unnamed: 0', 'brand', 'model', 'color', 'registration_date', 'year',\n",
      "       'price_in_euro', 'power_kw', 'power_ps', 'transmission_type',\n",
      "       'fuel_type', 'fuel_consumption_l_100km', 'fuel_consumption_g_km',\n",
      "       'mileage_in_km', 'offer_description'],\n",
      "      dtype='object')\n"
     ]
    }
   ],
   "source": [
    "print(car_data_audi.shape)\n",
    "print(car_data_audi.columns)"
   ]
  },
  {
   "cell_type": "code",
   "execution_count": 18,
   "id": "46420704",
   "metadata": {},
   "outputs": [],
   "source": [
    "car_data_audi['price_in_euro'] = car_data_audi['price_in_euro'].astype(int)\n",
    "car_data_audi['power_kw'] = car_data_audi['power_kw'].astype(int)\n",
    "car_data_audi['power_ps'] = car_data_audi['power_ps'].astype(int)\n",
    "car_data_audi['fuel_consumption_g_km']=car_data_audi['fuel_consumption_g_km'].astype(str)\n",
    "car_data_audi['fuel_consumption_g_km'] = car_data_audi['fuel_consumption_g_km'].str.extract(r'(\\d+\\.?\\d*)')  # Extract numeric part\n",
    "car_data_audi['fuel_consumption_g_km'] = car_data_audi['fuel_consumption_g_km'].astype(float)\n",
    "\n",
    "car_data_audi['fuel_consumption_l_100km']=car_data_audi['fuel_consumption_l_100km'].astype(str)\n",
    "car_data_audi['fuel_consumption_l_100km'] = car_data_audi['fuel_consumption_l_100km'].str.extract(r'(\\d+\\.?\\d*)')  # Extract numeric part\n",
    "car_data_audi['fuel_consumption_l_100km'] = car_data_audi['fuel_consumption_l_100km'].astype(float)"
   ]
  },
  {
   "cell_type": "code",
   "execution_count": 19,
   "id": "af3f16e9",
   "metadata": {},
   "outputs": [
    {
     "name": "stdout",
     "output_type": "stream",
     "text": [
      "Unnamed: 0                      0\n",
      "brand                           0\n",
      "model                           0\n",
      "color                         166\n",
      "registration_date               4\n",
      "year                            0\n",
      "price_in_euro                   0\n",
      "power_kw                        0\n",
      "power_ps                        0\n",
      "transmission_type               0\n",
      "fuel_type                       0\n",
      "fuel_consumption_l_100km    26873\n",
      "fuel_consumption_g_km           0\n",
      "mileage_in_km                   0\n",
      "offer_description               1\n",
      "dtype: int64\n"
     ]
    }
   ],
   "source": [
    "car_data_audi=car_data_audi.fillna(car_data_audi.mean(numeric_only=True))\n",
    "print(car_data.isnull().sum())"
   ]
  },
  {
   "cell_type": "code",
   "execution_count": 20,
   "id": "df21b25a",
   "metadata": {},
   "outputs": [
    {
     "name": "stdout",
     "output_type": "stream",
     "text": [
      "       Unnamed: 0  price_in_euro  power_kw  power_ps  \\\n",
      "1987         1987            900        85       116   \n",
      "1995         1995           1600       120       163   \n",
      "2081         2081           1200       114       155   \n",
      "2111         2111           3300       133       181   \n",
      "2147         2147           3800        96       131   \n",
      "...           ...            ...       ...       ...   \n",
      "22792       22792          44488       150       204   \n",
      "22810       22810          39980       150       204   \n",
      "22811       22811          58450       150       204   \n",
      "22832       22832          44488       150       204   \n",
      "22835       22835          48630       150       204   \n",
      "\n",
      "       fuel_consumption_l_100km  fuel_consumption_g_km  mileage_in_km  \n",
      "1987                        5.0            2016.408163       500000.0  \n",
      "1995                        7.0            2016.408163       232000.0  \n",
      "2081                        7.0            2016.408163       211000.0  \n",
      "2111                        7.0            2016.408163       200000.0  \n",
      "2147                        5.0            2016.408163       265000.0  \n",
      "...                         ...                    ...            ...  \n",
      "22792                       4.0            2016.408163           10.0  \n",
      "22810                       4.0            2016.408163         1050.0  \n",
      "22811                       6.0            2016.408163         4000.0  \n",
      "22832                       4.0            2016.408163           10.0  \n",
      "22835                       4.0            2016.408163         5843.0  \n",
      "\n",
      "[1378 rows x 7 columns]\n"
     ]
    }
   ],
   "source": [
    "numeric_columns = car_data_audi.select_dtypes(include='number')\n",
    "print(numeric_columns)"
   ]
  },
  {
   "cell_type": "markdown",
   "id": "2d9698fc",
   "metadata": {},
   "source": [
    "Only the column mileage_in_km and unnamed had dtypes float/int."
   ]
  },
  {
   "cell_type": "markdown",
   "id": "61c94c4a",
   "metadata": {},
   "source": [
    "Now, the dataset contains 297 datapoints and now they will be used to get idea on how  alogrithms perform."
   ]
  },
  {
   "cell_type": "code",
   "execution_count": 27,
   "id": "1767d628",
   "metadata": {},
   "outputs": [],
   "source": [
    "#Creating pipeline\n",
    "def predict(steps, car_data_audi):\n",
    "    start = time.time()   #Records start time to measure execution duration\n",
    "    r2 = []\n",
    "    mape = []\n",
    "    y = car_data_audi['price_in_euro'].values\n",
    "    categorical_feat = car_data_audi[['transmission_type','fuel_type']]\n",
    "    continuous_feat = car_data_audi[['power_ps','fuel_consumption_l_100km','power_kw','mileage_in_km','fuel_consumption_g_km']]\n",
    "    dummies = pd.get_dummies(categorical_feat,drop_first=False)   \n",
    "    car_data_audi = pd.concat([continuous_feat,dummies],axis=1)\n",
    "    \n",
    "    \n",
    "    X = pd.concat([continuous_feat, dummies], axis=1).values\n",
    "    X_train, X_test, y_train, y_test = train_test_split(X, y, test_size=0.3, random_state=42)\n",
    "    pipeline = make_pipeline(*steps)    #*steps unpacks the steps list\n",
    "    pipeline.fit(X_train, y_train)\n",
    "    predictions = pipeline.predict(X_test) \n",
    "    r2.append(r2_score(y_test, predictions))\n",
    "    mape.append(mean_absolute_percentage_error(y_test, predictions))\n",
    "    end = time.time()\n",
    "    print(f'Completed in {np.round((end - start),decimals=2)} seconds\\n\\\n",
    "            Mean r2 value for this model is {np.round(sum(r2)/len(r2),decimals=2)}\\n\\\n",
    "            Mean mape value for this model is {np.round(sum(mape)/len(mape)*100,decimals=1)} %')\n",
    "    return((X_train,y_train,X_test,y_test,predictions))"
   ]
  },
  {
   "cell_type": "markdown",
   "id": "4e9ae414",
   "metadata": {},
   "source": [
    "dummies = pd.get_dummies(categorical_feat,drop_first=False)\n",
    "   Converts categorical variables to dummy/one-hot encoded variables\n",
    "   drop_first=False keeps all dummy columns (no multicollinearity handling)"
   ]
  },
  {
   "cell_type": "code",
   "execution_count": 28,
   "id": "66044620",
   "metadata": {},
   "outputs": [],
   "source": [
    "#creating plot function to visulalize the dataset\n",
    "def plot_results(X_train,y_train,X_test,y_test,predictions):\n",
    "    fig, (ax1, ax2) = plt.subplots(1, 2,figsize=(12,5),sharey=True)\n",
    "    fig.tight_layout()\n",
    "    ax1.scatter(x=X_train[:,1],y=y_train,color='blue',alpha=0.5,label='y_train')\n",
    "    ax1.set_title('Training Data')\n",
    "    ax1.set_ylabel('Price in Euro')\n",
    "    ax1.legend()\n",
    "    ax2.scatter(x=X_test[:,1],y=y_test,color='blue',alpha=0.5,label='y_test')\n",
    "    ax2.scatter(x=X_test[:,1],y=predictions,color='red',alpha=0.5,label='predictions')\n",
    "    ax2.set_title('Testing Data vs Predictions')\n",
    "    ax2.legend()\n",
    "    fig.text(0.5,-0.02, \"Mileage in km\", ha=\"center\", va=\"center\")\n",
    "    plt.show()"
   ]
  },
  {
   "cell_type": "code",
   "execution_count": 29,
   "id": "bc5eb468",
   "metadata": {},
   "outputs": [
    {
     "name": "stdout",
     "output_type": "stream",
     "text": [
      "Completed in 0.01 seconds\n",
      "            Mean r2 value for this model is 0.63\n",
      "            Mean mape value for this model is 22.6 %\n"
     ]
    }
   ],
   "source": [
    "#Linear Regression\n",
    "(X_train,y_train,X_test,y_test,predictions) = predict((MinMaxScaler(), LinearRegression()),car_data_audi)"
   ]
  },
  {
   "cell_type": "code",
   "execution_count": 30,
   "id": "253729b5",
   "metadata": {},
   "outputs": [
    {
     "data": {
      "image/png": "[encoded data removed]",
      "text/plain": [
       "<Figure size 1200x500 with 2 Axes>"
      ]
     },
     "metadata": {},
     "output_type": "display_data"
    }
   ],
   "source": [
    "plot_results(X_train,y_train,X_test,y_test,predictions)"
   ]
  },
  {
   "cell_type": "markdown",
   "id": "4ccb747c",
   "metadata": {},
   "source": [
    "So, The linear regression model is used to predict the price of car based on mileage of that car. Its mean r2 value is calculated as 0.63(value close to 1 is most accurate), which shows that the model is not much accurate and needs to be fine tuned using hyperparameters."
   ]
  }
 ],
 "metadata": {
  "kernelspec": {
   "display_name": "Python 3",
   "language": "python",
   "name": "python3"
  },
  "language_info": {
   "codemirror_mode": {
    "name": "ipython",
    "version": 3
   },
   "file_extension": ".py",
   "mimetype": "text/x-python",
   "name": "python",
   "nbconvert_exporter": "python",
   "pygments_lexer": "ipython3",
   "version": "3.13.3"
  }
 },
 "nbformat": 4,
 "nbformat_minor": 5
}
