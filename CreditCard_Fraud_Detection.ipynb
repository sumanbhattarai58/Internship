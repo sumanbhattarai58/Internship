{
 "cells": [
  {
   "cell_type": "code",
   "execution_count": 2,
   "id": "d9ee9f4f",
   "metadata": {},
   "outputs": [],
   "source": [
    "import pandas as pd\n",
    "import numpy as np\n",
    "import matplotlib.pyplot as plt\n",
    "import seaborn as sns\n",
    "\n",
    "from sklearn.model_selection import train_test_split\n",
    "from sklearn.preprocessing import StandardScaler\n",
    "from sklearn.metrics import roc_auc_score, classification_report, confusion_matrix, precision_recall_curve\n",
    "\n",
    "from imblearn.over_sampling import SMOTE\n",
    "from imblearn.pipeline import Pipeline as ImbPipeline\n",
    "\n",
    "from sklearn.ensemble import RandomForestClassifier\n",
    "from xgboost import XGBClassifier\n",
    "from lightgbm import LGBMClassifier\n",
    "\n",
    "import mlflow\n",
    "import mlflow.sklearn\n",
    "\n",
    "import warnings\n",
    "warnings.filterwarnings('ignore')"
   ]
  },
  {
   "cell_type": "code",
   "execution_count": 3,
   "id": "04e1a400",
   "metadata": {},
   "outputs": [
    {
     "data": {
      "text/html": [
       "<div>\n",
       "<style scoped>\n",
       "    .dataframe tbody tr th:only-of-type {\n",
       "        vertical-align: middle;\n",
       "    }\n",
       "\n",
       "    .dataframe tbody tr th {\n",
       "        vertical-align: top;\n",
       "    }\n",
       "\n",
       "    .dataframe thead th {\n",
       "        text-align: right;\n",
       "    }\n",
       "</style>\n",
       "<table border=\"1\" class=\"dataframe\">\n",
       "  <thead>\n",
       "    <tr style=\"text-align: right;\">\n",
       "      <th></th>\n",
       "      <th>Unnamed: 0</th>\n",
       "      <th>trans_date_trans_time</th>\n",
       "      <th>cc_num</th>\n",
       "      <th>merchant</th>\n",
       "      <th>category</th>\n",
       "      <th>amt</th>\n",
       "      <th>first</th>\n",
       "      <th>last</th>\n",
       "      <th>gender</th>\n",
       "      <th>street</th>\n",
       "      <th>...</th>\n",
       "      <th>long</th>\n",
       "      <th>city_pop</th>\n",
       "      <th>job</th>\n",
       "      <th>dob</th>\n",
       "      <th>trans_num</th>\n",
       "      <th>unix_time</th>\n",
       "      <th>merch_lat</th>\n",
       "      <th>merch_long</th>\n",
       "      <th>is_fraud</th>\n",
       "      <th>merch_zipcode</th>\n",
       "    </tr>\n",
       "  </thead>\n",
       "  <tbody>\n",
       "    <tr>\n",
       "      <th>0</th>\n",
       "      <td>0</td>\n",
       "      <td>2019-01-01 00:00:18</td>\n",
       "      <td>2703186189652095</td>\n",
       "      <td>fraud_Rippin, Kub and Mann</td>\n",
       "      <td>misc_net</td>\n",
       "      <td>4.97</td>\n",
       "      <td>Jennifer</td>\n",
       "      <td>Banks</td>\n",
       "      <td>F</td>\n",
       "      <td>561 Perry Cove</td>\n",
       "      <td>...</td>\n",
       "      <td>-81.1781</td>\n",
       "      <td>3495</td>\n",
       "      <td>Psychologist, counselling</td>\n",
       "      <td>1988-03-09</td>\n",
       "      <td>0b242abb623afc578575680df30655b9</td>\n",
       "      <td>1325376018</td>\n",
       "      <td>36.011293</td>\n",
       "      <td>-82.048315</td>\n",
       "      <td>0</td>\n",
       "      <td>28705.0</td>\n",
       "    </tr>\n",
       "    <tr>\n",
       "      <th>1</th>\n",
       "      <td>1</td>\n",
       "      <td>2019-01-01 00:00:44</td>\n",
       "      <td>630423337322</td>\n",
       "      <td>fraud_Heller, Gutmann and Zieme</td>\n",
       "      <td>grocery_pos</td>\n",
       "      <td>107.23</td>\n",
       "      <td>Stephanie</td>\n",
       "      <td>Gill</td>\n",
       "      <td>F</td>\n",
       "      <td>43039 Riley Greens Suite 393</td>\n",
       "      <td>...</td>\n",
       "      <td>-118.2105</td>\n",
       "      <td>149</td>\n",
       "      <td>Special educational needs teacher</td>\n",
       "      <td>1978-06-21</td>\n",
       "      <td>1f76529f8574734946361c461b024d99</td>\n",
       "      <td>1325376044</td>\n",
       "      <td>49.159047</td>\n",
       "      <td>-118.186462</td>\n",
       "      <td>0</td>\n",
       "      <td>NaN</td>\n",
       "    </tr>\n",
       "    <tr>\n",
       "      <th>2</th>\n",
       "      <td>2</td>\n",
       "      <td>2019-01-01 00:00:51</td>\n",
       "      <td>38859492057661</td>\n",
       "      <td>fraud_Lind-Buckridge</td>\n",
       "      <td>entertainment</td>\n",
       "      <td>220.11</td>\n",
       "      <td>Edward</td>\n",
       "      <td>Sanchez</td>\n",
       "      <td>M</td>\n",
       "      <td>594 White Dale Suite 530</td>\n",
       "      <td>...</td>\n",
       "      <td>-112.2620</td>\n",
       "      <td>4154</td>\n",
       "      <td>Nature conservation officer</td>\n",
       "      <td>1962-01-19</td>\n",
       "      <td>a1a22d70485983eac12b5b88dad1cf95</td>\n",
       "      <td>1325376051</td>\n",
       "      <td>43.150704</td>\n",
       "      <td>-112.154481</td>\n",
       "      <td>0</td>\n",
       "      <td>83236.0</td>\n",
       "    </tr>\n",
       "    <tr>\n",
       "      <th>3</th>\n",
       "      <td>3</td>\n",
       "      <td>2019-01-01 00:01:16</td>\n",
       "      <td>3534093764340240</td>\n",
       "      <td>fraud_Kutch, Hermiston and Farrell</td>\n",
       "      <td>gas_transport</td>\n",
       "      <td>45.00</td>\n",
       "      <td>Jeremy</td>\n",
       "      <td>White</td>\n",
       "      <td>M</td>\n",
       "      <td>9443 Cynthia Court Apt. 038</td>\n",
       "      <td>...</td>\n",
       "      <td>-112.1138</td>\n",
       "      <td>1939</td>\n",
       "      <td>Patent attorney</td>\n",
       "      <td>1967-01-12</td>\n",
       "      <td>6b849c168bdad6f867558c3793159a81</td>\n",
       "      <td>1325376076</td>\n",
       "      <td>47.034331</td>\n",
       "      <td>-112.561071</td>\n",
       "      <td>0</td>\n",
       "      <td>NaN</td>\n",
       "    </tr>\n",
       "    <tr>\n",
       "      <th>4</th>\n",
       "      <td>4</td>\n",
       "      <td>2019-01-01 00:03:06</td>\n",
       "      <td>375534208663984</td>\n",
       "      <td>fraud_Keeling-Crist</td>\n",
       "      <td>misc_pos</td>\n",
       "      <td>41.96</td>\n",
       "      <td>Tyler</td>\n",
       "      <td>Garcia</td>\n",
       "      <td>M</td>\n",
       "      <td>408 Bradley Rest</td>\n",
       "      <td>...</td>\n",
       "      <td>-79.4629</td>\n",
       "      <td>99</td>\n",
       "      <td>Dance movement psychotherapist</td>\n",
       "      <td>1986-03-28</td>\n",
       "      <td>a41d7549acf90789359a9aa5346dcb46</td>\n",
       "      <td>1325376186</td>\n",
       "      <td>38.674999</td>\n",
       "      <td>-78.632459</td>\n",
       "      <td>0</td>\n",
       "      <td>22844.0</td>\n",
       "    </tr>\n",
       "  </tbody>\n",
       "</table>\n",
       "<p>5 rows × 24 columns</p>\n",
       "</div>"
      ],
      "text/plain": [
       "   Unnamed: 0 trans_date_trans_time            cc_num  \\\n",
       "0           0   2019-01-01 00:00:18  2703186189652095   \n",
       "1           1   2019-01-01 00:00:44      630423337322   \n",
       "2           2   2019-01-01 00:00:51    38859492057661   \n",
       "3           3   2019-01-01 00:01:16  3534093764340240   \n",
       "4           4   2019-01-01 00:03:06   375534208663984   \n",
       "\n",
       "                             merchant       category     amt      first  \\\n",
       "0          fraud_Rippin, Kub and Mann       misc_net    4.97   Jennifer   \n",
       "1     fraud_Heller, Gutmann and Zieme    grocery_pos  107.23  Stephanie   \n",
       "2                fraud_Lind-Buckridge  entertainment  220.11     Edward   \n",
       "3  fraud_Kutch, Hermiston and Farrell  gas_transport   45.00     Jeremy   \n",
       "4                 fraud_Keeling-Crist       misc_pos   41.96      Tyler   \n",
       "\n",
       "      last gender                        street  ...      long city_pop  \\\n",
       "0    Banks      F                561 Perry Cove  ...  -81.1781     3495   \n",
       "1     Gill      F  43039 Riley Greens Suite 393  ... -118.2105      149   \n",
       "2  Sanchez      M      594 White Dale Suite 530  ... -112.2620     4154   \n",
       "3    White      M   9443 Cynthia Court Apt. 038  ... -112.1138     1939   \n",
       "4   Garcia      M              408 Bradley Rest  ...  -79.4629       99   \n",
       "\n",
       "                                 job         dob  \\\n",
       "0          Psychologist, counselling  1988-03-09   \n",
       "1  Special educational needs teacher  1978-06-21   \n",
       "2        Nature conservation officer  1962-01-19   \n",
       "3                    Patent attorney  1967-01-12   \n",
       "4     Dance movement psychotherapist  1986-03-28   \n",
       "\n",
       "                          trans_num   unix_time  merch_lat  merch_long  \\\n",
       "0  0b242abb623afc578575680df30655b9  1325376018  36.011293  -82.048315   \n",
       "1  1f76529f8574734946361c461b024d99  1325376044  49.159047 -118.186462   \n",
       "2  a1a22d70485983eac12b5b88dad1cf95  1325376051  43.150704 -112.154481   \n",
       "3  6b849c168bdad6f867558c3793159a81  1325376076  47.034331 -112.561071   \n",
       "4  a41d7549acf90789359a9aa5346dcb46  1325376186  38.674999  -78.632459   \n",
       "\n",
       "  is_fraud  merch_zipcode  \n",
       "0        0        28705.0  \n",
       "1        0            NaN  \n",
       "2        0        83236.0  \n",
       "3        0            NaN  \n",
       "4        0        22844.0  \n",
       "\n",
       "[5 rows x 24 columns]"
      ]
     },
     "execution_count": 3,
     "metadata": {},
     "output_type": "execute_result"
    }
   ],
   "source": [
    "data = pd.read_csv(r\"D:\\Amnil Internship code\\Credit_card Fraud Detection\\Credit_card_transactions.csv\\credit_card_transactions.csv\")\n",
    "data.head()"
   ]
  },
  {
   "cell_type": "code",
   "execution_count": 4,
   "id": "7e5a661e",
   "metadata": {},
   "outputs": [
    {
     "name": "stdout",
     "output_type": "stream",
     "text": [
      "<class 'pandas.core.frame.DataFrame'>\n",
      "RangeIndex: 1296675 entries, 0 to 1296674\n",
      "Data columns (total 24 columns):\n",
      " #   Column                 Non-Null Count    Dtype  \n",
      "---  ------                 --------------    -----  \n",
      " 0   Unnamed: 0             1296675 non-null  int64  \n",
      " 1   trans_date_trans_time  1296675 non-null  object \n",
      " 2   cc_num                 1296675 non-null  int64  \n",
      " 3   merchant               1296675 non-null  object \n",
      " 4   category               1296675 non-null  object \n",
      " 5   amt                    1296675 non-null  float64\n",
      " 6   first                  1296675 non-null  object \n",
      " 7   last                   1296675 non-null  object \n",
      " 8   gender                 1296675 non-null  object \n",
      " 9   street                 1296675 non-null  object \n",
      " 10  city                   1296675 non-null  object \n",
      " 11  state                  1296675 non-null  object \n",
      " 12  zip                    1296675 non-null  int64  \n",
      " 13  lat                    1296675 non-null  float64\n",
      " 14  long                   1296675 non-null  float64\n",
      " 15  city_pop               1296675 non-null  int64  \n",
      " 16  job                    1296675 non-null  object \n",
      " 17  dob                    1296675 non-null  object \n",
      " 18  trans_num              1296675 non-null  object \n",
      " 19  unix_time              1296675 non-null  int64  \n",
      " 20  merch_lat              1296675 non-null  float64\n",
      " 21  merch_long             1296675 non-null  float64\n",
      " 22  is_fraud               1296675 non-null  int64  \n",
      " 23  merch_zipcode          1100702 non-null  float64\n",
      "dtypes: float64(6), int64(6), object(12)\n",
      "memory usage: 237.4+ MB\n",
      "None\n"
     ]
    }
   ],
   "source": [
    "print(data.info())"
   ]
  },
  {
   "cell_type": "code",
   "execution_count": 5,
   "id": "191c73ab",
   "metadata": {},
   "outputs": [
    {
     "name": "stdout",
     "output_type": "stream",
     "text": [
      "Index(['Unnamed: 0', 'trans_date_trans_time', 'cc_num', 'merchant', 'category',\n",
      "       'amt', 'first', 'last', 'gender', 'street', 'city', 'state', 'zip',\n",
      "       'lat', 'long', 'city_pop', 'job', 'dob', 'trans_num', 'unix_time',\n",
      "       'merch_lat', 'merch_long', 'is_fraud', 'merch_zipcode'],\n",
      "      dtype='object')\n"
     ]
    }
   ],
   "source": [
    "print(data.columns)"
   ]
  },
  {
   "cell_type": "code",
   "execution_count": 6,
   "id": "b25a14d6",
   "metadata": {},
   "outputs": [
    {
     "name": "stdout",
     "output_type": "stream",
     "text": [
      "Unnamed: 0                    0\n",
      "trans_date_trans_time         0\n",
      "cc_num                        0\n",
      "merchant                      0\n",
      "category                      0\n",
      "amt                           0\n",
      "first                         0\n",
      "last                          0\n",
      "gender                        0\n",
      "street                        0\n",
      "city                          0\n",
      "state                         0\n",
      "zip                           0\n",
      "lat                           0\n",
      "long                          0\n",
      "city_pop                      0\n",
      "job                           0\n",
      "dob                           0\n",
      "trans_num                     0\n",
      "unix_time                     0\n",
      "merch_lat                     0\n",
      "merch_long                    0\n",
      "is_fraud                      0\n",
      "merch_zipcode            195973\n",
      "dtype: int64\n"
     ]
    }
   ],
   "source": [
    "print(data.isnull().sum())"
   ]
  },
  {
   "cell_type": "code",
   "execution_count": 7,
   "id": "bf0c925d",
   "metadata": {},
   "outputs": [
    {
     "name": "stdout",
     "output_type": "stream",
     "text": [
      "is_fraud\n",
      "0    1289169\n",
      "1       7506\n",
      "Name: count, dtype: int64\n"
     ]
    }
   ],
   "source": [
    "print(data['is_fraud'].value_counts())"
   ]
  },
  {
   "cell_type": "code",
   "execution_count": 8,
   "id": "62843976",
   "metadata": {},
   "outputs": [
    {
     "name": "stdout",
     "output_type": "stream",
     "text": [
      "is_fraud\n",
      "0    99.421135\n",
      "1     0.578865\n",
      "Name: proportion, dtype: float64\n"
     ]
    }
   ],
   "source": [
    "print(data['is_fraud'].value_counts(normalize=True) * 100)"
   ]
  },
  {
   "cell_type": "markdown",
   "id": "4bb5bf20",
   "metadata": {},
   "source": [
    "The dataset is highly imbalanced with very few fraud cases compared to non-fraud cases(7506 frauds in 1289169 samples). This imbalance can lead to biased model performance, where the model may perform well on the majority class (non-fraud) but poorly on the minority class (fraud). To address this, techniques such as oversampling the minority class, undersampling the majority class, or using specialized algorithms designed for imbalanced datasets can be employed."
   ]
  },
  {
   "cell_type": "code",
   "execution_count": 9,
   "id": "ae7af6c3",
   "metadata": {},
   "outputs": [],
   "source": [
    "# Separate fraud (1) and non-fraud (0)\n",
    "fraud = data[data['is_fraud'] == 1]\n",
    "non_fraud = data[data['is_fraud'] == 0]\n",
    "\n",
    "# Take all fraud cases\n",
    "fraud_data = fraud  \n",
    "\n",
    "# Randomly sample 100k from non-fraud\n",
    "non_fraud_data = non_fraud.sample(n=100000, random_state=42)\n",
    "\n",
    "# Combine them\n",
    "data = pd.concat([fraud_data, non_fraud_data])\n",
    "\n",
    "# Shuffle the dataset\n",
    "data = data.sample(frac=1, random_state=42).reset_index(drop=True)\n"
   ]
  },
  {
   "cell_type": "code",
   "execution_count": 10,
   "id": "58e0088b",
   "metadata": {},
   "outputs": [
    {
     "name": "stdout",
     "output_type": "stream",
     "text": [
      "(107506, 24)\n"
     ]
    }
   ],
   "source": [
    "print(data.shape)"
   ]
  },
  {
   "cell_type": "code",
   "execution_count": 11,
   "id": "859b4000",
   "metadata": {},
   "outputs": [],
   "source": [
    "from datetime import datetime\n",
    "\n",
    "# Transform trans_date_trans_time to extract time features\n",
    "data['trans_date_trans_time'] = pd.to_datetime(data['trans_date_trans_time'])\n",
    "\n",
    "# Extract time-based features\n",
    "data['hour'] = data['trans_date_trans_time'].dt.hour\n",
    "data['day_of_week'] = data['trans_date_trans_time'].dt.dayofweek  # 0=Monday, 6=Sunday\n",
    "data['month'] = data['trans_date_trans_time'].dt.month"
   ]
  },
  {
   "cell_type": "code",
   "execution_count": 12,
   "id": "02c6c0a3",
   "metadata": {},
   "outputs": [
    {
     "name": "stdout",
     "output_type": "stream",
     "text": [
      "day_of_week\n",
      "0    20958\n",
      "6    20476\n",
      "5    16843\n",
      "1    13261\n",
      "4    12874\n",
      "3    12186\n",
      "2    10908\n",
      "Name: count, dtype: int64\n"
     ]
    }
   ],
   "source": [
    "print(data['day_of_week'].value_counts())"
   ]
  },
  {
   "cell_type": "code",
   "execution_count": 13,
   "id": "0300f571",
   "metadata": {},
   "outputs": [],
   "source": [
    "#Transform dob to age\n",
    "data['dob'] = pd.to_datetime(data['dob'])\n",
    "data['age'] = data['trans_date_trans_time'].dt.year - data['dob'].dt.year"
   ]
  },
  {
   "cell_type": "code",
   "execution_count": 14,
   "id": "29885c8f",
   "metadata": {},
   "outputs": [],
   "source": [
    "# Calculate distance between customer and merchant\n",
    "data['dist'] = np.sqrt((data['lat'] - data['merch_lat'])**2 + (data['long'] - data['merch_long'])**2)"
   ]
  },
  {
   "cell_type": "code",
   "execution_count": 15,
   "id": "57084d1a",
   "metadata": {},
   "outputs": [
    {
     "data": {
      "text/html": [
       "<div>\n",
       "<style scoped>\n",
       "    .dataframe tbody tr th:only-of-type {\n",
       "        vertical-align: middle;\n",
       "    }\n",
       "\n",
       "    .dataframe tbody tr th {\n",
       "        vertical-align: top;\n",
       "    }\n",
       "\n",
       "    .dataframe thead th {\n",
       "        text-align: right;\n",
       "    }\n",
       "</style>\n",
       "<table border=\"1\" class=\"dataframe\">\n",
       "  <thead>\n",
       "    <tr style=\"text-align: right;\">\n",
       "      <th></th>\n",
       "      <th>merchant</th>\n",
       "      <th>category</th>\n",
       "      <th>amt</th>\n",
       "      <th>gender</th>\n",
       "      <th>city</th>\n",
       "      <th>state</th>\n",
       "      <th>zip</th>\n",
       "      <th>lat</th>\n",
       "      <th>long</th>\n",
       "      <th>city_pop</th>\n",
       "      <th>job</th>\n",
       "      <th>merch_lat</th>\n",
       "      <th>merch_long</th>\n",
       "      <th>is_fraud</th>\n",
       "      <th>hour</th>\n",
       "      <th>day_of_week</th>\n",
       "      <th>month</th>\n",
       "      <th>age</th>\n",
       "      <th>dist</th>\n",
       "    </tr>\n",
       "  </thead>\n",
       "  <tbody>\n",
       "    <tr>\n",
       "      <th>0</th>\n",
       "      <td>fraud_Stehr, Jewess and Schimmel</td>\n",
       "      <td>misc_net</td>\n",
       "      <td>110.33</td>\n",
       "      <td>M</td>\n",
       "      <td>Bridger</td>\n",
       "      <td>MT</td>\n",
       "      <td>59014</td>\n",
       "      <td>45.2857</td>\n",
       "      <td>-108.9082</td>\n",
       "      <td>1446</td>\n",
       "      <td>Chartered loss adjuster</td>\n",
       "      <td>45.694334</td>\n",
       "      <td>-109.066810</td>\n",
       "      <td>0</td>\n",
       "      <td>5</td>\n",
       "      <td>0</td>\n",
       "      <td>5</td>\n",
       "      <td>41</td>\n",
       "      <td>0.438336</td>\n",
       "    </tr>\n",
       "    <tr>\n",
       "      <th>1</th>\n",
       "      <td>fraud_Cormier LLC</td>\n",
       "      <td>shopping_net</td>\n",
       "      <td>84.46</td>\n",
       "      <td>M</td>\n",
       "      <td>Arcadia</td>\n",
       "      <td>OH</td>\n",
       "      <td>44804</td>\n",
       "      <td>41.1116</td>\n",
       "      <td>-83.5020</td>\n",
       "      <td>1202</td>\n",
       "      <td>Curator</td>\n",
       "      <td>41.863732</td>\n",
       "      <td>-83.054106</td>\n",
       "      <td>0</td>\n",
       "      <td>5</td>\n",
       "      <td>3</td>\n",
       "      <td>8</td>\n",
       "      <td>86</td>\n",
       "      <td>0.875392</td>\n",
       "    </tr>\n",
       "    <tr>\n",
       "      <th>2</th>\n",
       "      <td>fraud_Upton PLC</td>\n",
       "      <td>entertainment</td>\n",
       "      <td>81.11</td>\n",
       "      <td>M</td>\n",
       "      <td>Reno</td>\n",
       "      <td>NV</td>\n",
       "      <td>89512</td>\n",
       "      <td>39.5483</td>\n",
       "      <td>-119.7957</td>\n",
       "      <td>276896</td>\n",
       "      <td>Immunologist</td>\n",
       "      <td>39.604061</td>\n",
       "      <td>-120.531486</td>\n",
       "      <td>0</td>\n",
       "      <td>14</td>\n",
       "      <td>0</td>\n",
       "      <td>9</td>\n",
       "      <td>22</td>\n",
       "      <td>0.737896</td>\n",
       "    </tr>\n",
       "    <tr>\n",
       "      <th>3</th>\n",
       "      <td>fraud_Towne LLC</td>\n",
       "      <td>misc_pos</td>\n",
       "      <td>3.99</td>\n",
       "      <td>M</td>\n",
       "      <td>Espanola</td>\n",
       "      <td>NM</td>\n",
       "      <td>87533</td>\n",
       "      <td>35.9866</td>\n",
       "      <td>-106.0654</td>\n",
       "      <td>18408</td>\n",
       "      <td>Historic buildings inspector/conservation officer</td>\n",
       "      <td>36.546189</td>\n",
       "      <td>-105.428412</td>\n",
       "      <td>0</td>\n",
       "      <td>19</td>\n",
       "      <td>3</td>\n",
       "      <td>9</td>\n",
       "      <td>47</td>\n",
       "      <td>0.847876</td>\n",
       "    </tr>\n",
       "    <tr>\n",
       "      <th>4</th>\n",
       "      <td>fraud_Crona and Sons</td>\n",
       "      <td>kids_pets</td>\n",
       "      <td>22.24</td>\n",
       "      <td>M</td>\n",
       "      <td>Lohrville</td>\n",
       "      <td>IA</td>\n",
       "      <td>51453</td>\n",
       "      <td>42.2619</td>\n",
       "      <td>-94.5566</td>\n",
       "      <td>695</td>\n",
       "      <td>Administrator</td>\n",
       "      <td>41.690108</td>\n",
       "      <td>-93.584278</td>\n",
       "      <td>0</td>\n",
       "      <td>17</td>\n",
       "      <td>5</td>\n",
       "      <td>4</td>\n",
       "      <td>66</td>\n",
       "      <td>1.127988</td>\n",
       "    </tr>\n",
       "  </tbody>\n",
       "</table>\n",
       "</div>"
      ],
      "text/plain": [
       "                           merchant       category     amt gender       city  \\\n",
       "0  fraud_Stehr, Jewess and Schimmel       misc_net  110.33      M    Bridger   \n",
       "1                 fraud_Cormier LLC   shopping_net   84.46      M    Arcadia   \n",
       "2                   fraud_Upton PLC  entertainment   81.11      M       Reno   \n",
       "3                   fraud_Towne LLC       misc_pos    3.99      M   Espanola   \n",
       "4              fraud_Crona and Sons      kids_pets   22.24      M  Lohrville   \n",
       "\n",
       "  state    zip      lat      long  city_pop  \\\n",
       "0    MT  59014  45.2857 -108.9082      1446   \n",
       "1    OH  44804  41.1116  -83.5020      1202   \n",
       "2    NV  89512  39.5483 -119.7957    276896   \n",
       "3    NM  87533  35.9866 -106.0654     18408   \n",
       "4    IA  51453  42.2619  -94.5566       695   \n",
       "\n",
       "                                                 job  merch_lat  merch_long  \\\n",
       "0                            Chartered loss adjuster  45.694334 -109.066810   \n",
       "1                                            Curator  41.863732  -83.054106   \n",
       "2                                       Immunologist  39.604061 -120.531486   \n",
       "3  Historic buildings inspector/conservation officer  36.546189 -105.428412   \n",
       "4                                      Administrator  41.690108  -93.584278   \n",
       "\n",
       "   is_fraud  hour  day_of_week  month  age      dist  \n",
       "0         0     5            0      5   41  0.438336  \n",
       "1         0     5            3      8   86  0.875392  \n",
       "2         0    14            0      9   22  0.737896  \n",
       "3         0    19            3      9   47  0.847876  \n",
       "4         0    17            5      4   66  1.127988  "
      ]
     },
     "execution_count": 15,
     "metadata": {},
     "output_type": "execute_result"
    }
   ],
   "source": [
    "#Drop unnecessary columns\n",
    "drop_cols = ['Unnamed: 0','cc_num','first','last','street','trans_num','unix_time','trans_date_trans_time','dob'\n",
    "             ,'merch_zipcode']\n",
    "data = data.drop(columns=drop_cols, axis=1)\n",
    "data.head()"
   ]
  },
  {
   "cell_type": "markdown",
   "id": "9173ec27",
   "metadata": {},
   "source": [
    "These dropped columns are not necessary for the analysis and could potentially introduce noise or bias into the model. For example, 'cc_num' is sensitive information that should not be used in fraud detection models. Other columns like 'first', 'last', 'street', also do not contribute to the predictive power of the model and can be safely removed to streamline the dataset.insted of street we can use 'city','state','zip' for location based analysis."
   ]
  },
  {
   "cell_type": "code",
   "execution_count": 16,
   "id": "17ae0f3c",
   "metadata": {},
   "outputs": [
    {
     "name": "stdout",
     "output_type": "stream",
     "text": [
      "Index(['merchant', 'category', 'amt', 'gender', 'city', 'state', 'zip', 'lat',\n",
      "       'long', 'city_pop', 'job', 'merch_lat', 'merch_long', 'is_fraud',\n",
      "       'hour', 'day_of_week', 'month', 'age', 'dist'],\n",
      "      dtype='object')\n"
     ]
    }
   ],
   "source": [
    "print(data.columns)"
   ]
  },
  {
   "cell_type": "code",
   "execution_count": 17,
   "id": "103f4c21",
   "metadata": {},
   "outputs": [
    {
     "name": "stdout",
     "output_type": "stream",
     "text": [
      "(107506, 19)\n"
     ]
    }
   ],
   "source": [
    "print(data.shape)"
   ]
  },
  {
   "cell_type": "code",
   "execution_count": 18,
   "id": "6b16308d",
   "metadata": {},
   "outputs": [
    {
     "name": "stdout",
     "output_type": "stream",
     "text": [
      "Data types:\n",
      "merchant        object\n",
      "category        object\n",
      "amt            float64\n",
      "gender          object\n",
      "city            object\n",
      "state           object\n",
      "zip              int64\n",
      "lat            float64\n",
      "long           float64\n",
      "city_pop         int64\n",
      "job             object\n",
      "merch_lat      float64\n",
      "merch_long     float64\n",
      "is_fraud         int64\n",
      "hour             int32\n",
      "day_of_week      int32\n",
      "month            int32\n",
      "age              int32\n",
      "dist           float64\n",
      "dtype: object\n",
      "\n",
      "Categorical columns (object type):\n",
      "['merchant', 'category', 'gender', 'city', 'state', 'job']\n",
      "\n",
      "Unique values in each categorical column:\n",
      "merchant: 693 unique values\n",
      "category: 14 unique values\n",
      "gender: 2 unique values\n",
      "city: 894 unique values\n",
      "state: 51 unique values\n",
      "job: 494 unique values\n"
     ]
    }
   ],
   "source": [
    "# Check data types and identify categorical columns\n",
    "print(\"Data types:\")\n",
    "print(data.dtypes)\n",
    "\n",
    "print(\"\\nCategorical columns (object type):\")\n",
    "categorical_cols = data.select_dtypes(include=['object']).columns.tolist()\n",
    "if 'is_fraud' in categorical_cols:\n",
    "    categorical_cols.remove('is_fraud')  # Remove target variable\n",
    "print(categorical_cols)\n",
    "\n",
    "print(\"\\nUnique values in each categorical column:\")\n",
    "for col in categorical_cols:\n",
    "    print(f\"{col}: {data[col].nunique()} unique values\")"
   ]
  },
  {
   "cell_type": "code",
   "execution_count": 19,
   "id": "bbf793d5",
   "metadata": {},
   "outputs": [
    {
     "name": "stdout",
     "output_type": "stream",
     "text": [
      "Categorization for encoding strategy:\n",
      "Low cardinality (≤10): ['gender']\n",
      "Medium cardinality (11-50): ['category']\n",
      "High cardinality (>50): ['merchant', 'city', 'state', 'job']\n"
     ]
    }
   ],
   "source": [
    "# Categorize columns by number of unique values\n",
    "low_cardinality = []    # <= 10 unique values (good for one-hot encoding)\n",
    "medium_cardinality = [] # 11-50 unique values (can use one-hot or target encoding)\n",
    "high_cardinality = []   # > 50 unique values (use target encoding or grouping)\n",
    "\n",
    "categorical_cols = ['merchant', 'category', 'gender', 'city', 'state', 'job']\n",
    "\n",
    "for col in categorical_cols:\n",
    "    unique_count = data[col].nunique()\n",
    "    if unique_count <= 10:\n",
    "        low_cardinality.append(col)\n",
    "    elif unique_count <= 50:\n",
    "        medium_cardinality.append(col)\n",
    "    else:\n",
    "        high_cardinality.append(col)\n",
    "\n",
    "print(\"Categorization for encoding strategy:\")\n",
    "print(f\"Low cardinality (≤10): {low_cardinality}\")\n",
    "print(f\"Medium cardinality (11-50): {medium_cardinality}\")  \n",
    "print(f\"High cardinality (>50): {high_cardinality}\")"
   ]
  },
  {
   "cell_type": "code",
   "execution_count": 20,
   "id": "8b820eaf",
   "metadata": {},
   "outputs": [
    {
     "name": "stdout",
     "output_type": "stream",
     "text": [
      "gender\n",
      "F    58332\n",
      "M    49174\n",
      "Name: count, dtype: int64\n"
     ]
    }
   ],
   "source": [
    "print(data['gender'].value_counts()) "
   ]
  },
  {
   "cell_type": "code",
   "execution_count": 21,
   "id": "55bcad34",
   "metadata": {},
   "outputs": [
    {
     "name": "stdout",
     "output_type": "stream",
     "text": [
      "                           merchant       category     amt       city state  \\\n",
      "0  fraud_Stehr, Jewess and Schimmel       misc_net  110.33    Bridger    MT   \n",
      "1                 fraud_Cormier LLC   shopping_net   84.46    Arcadia    OH   \n",
      "2                   fraud_Upton PLC  entertainment   81.11       Reno    NV   \n",
      "3                   fraud_Towne LLC       misc_pos    3.99   Espanola    NM   \n",
      "4              fraud_Crona and Sons      kids_pets   22.24  Lohrville    IA   \n",
      "\n",
      "     zip      lat      long  city_pop  \\\n",
      "0  59014  45.2857 -108.9082      1446   \n",
      "1  44804  41.1116  -83.5020      1202   \n",
      "2  89512  39.5483 -119.7957    276896   \n",
      "3  87533  35.9866 -106.0654     18408   \n",
      "4  51453  42.2619  -94.5566       695   \n",
      "\n",
      "                                                 job  merch_lat  merch_long  \\\n",
      "0                            Chartered loss adjuster  45.694334 -109.066810   \n",
      "1                                            Curator  41.863732  -83.054106   \n",
      "2                                       Immunologist  39.604061 -120.531486   \n",
      "3  Historic buildings inspector/conservation officer  36.546189 -105.428412   \n",
      "4                                      Administrator  41.690108  -93.584278   \n",
      "\n",
      "   is_fraud  hour  day_of_week  month  age      dist  gender_F  gender_M  \n",
      "0         0     5            0      5   41  0.438336     False      True  \n",
      "1         0     5            3      8   86  0.875392     False      True  \n",
      "2         0    14            0      9   22  0.737896     False      True  \n",
      "3         0    19            3      9   47  0.847876     False      True  \n",
      "4         0    17            5      4   66  1.127988     False      True  \n"
     ]
    }
   ],
   "source": [
    "#One Hot Encoding for low cardinality categorical variables(Gender)\n",
    "data = pd.get_dummies(data, columns=low_cardinality)\n",
    "print(data.head())\n"
   ]
  },
  {
   "cell_type": "code",
   "execution_count": 22,
   "id": "818806bb",
   "metadata": {},
   "outputs": [
    {
     "name": "stdout",
     "output_type": "stream",
     "text": [
      "                           merchant  category     amt       city state    zip  \\\n",
      "0  fraud_Stehr, Jewess and Schimmel         8  110.33    Bridger    MT  59014   \n",
      "1                 fraud_Cormier LLC        11   84.46    Arcadia    OH  44804   \n",
      "2                   fraud_Upton PLC         0   81.11       Reno    NV  89512   \n",
      "3                   fraud_Towne LLC         9    3.99   Espanola    NM  87533   \n",
      "4              fraud_Crona and Sons         7   22.24  Lohrville    IA  51453   \n",
      "\n",
      "       lat      long  city_pop  \\\n",
      "0  45.2857 -108.9082      1446   \n",
      "1  41.1116  -83.5020      1202   \n",
      "2  39.5483 -119.7957    276896   \n",
      "3  35.9866 -106.0654     18408   \n",
      "4  42.2619  -94.5566       695   \n",
      "\n",
      "                                                 job  merch_lat  merch_long  \\\n",
      "0                            Chartered loss adjuster  45.694334 -109.066810   \n",
      "1                                            Curator  41.863732  -83.054106   \n",
      "2                                       Immunologist  39.604061 -120.531486   \n",
      "3  Historic buildings inspector/conservation officer  36.546189 -105.428412   \n",
      "4                                      Administrator  41.690108  -93.584278   \n",
      "\n",
      "   is_fraud  hour  day_of_week  month  age      dist  gender_F  gender_M  \n",
      "0         0     5            0      5   41  0.438336     False      True  \n",
      "1         0     5            3      8   86  0.875392     False      True  \n",
      "2         0    14            0      9   22  0.737896     False      True  \n",
      "3         0    19            3      9   47  0.847876     False      True  \n",
      "4         0    17            5      4   66  1.127988     False      True  \n"
     ]
    }
   ],
   "source": [
    "#Label Encoding for medium cardinality categorical variables (Category)\n",
    "from sklearn.preprocessing import LabelEncoder\n",
    "\n",
    "for col in medium_cardinality:\n",
    "    le = LabelEncoder()  # New encoder for each column\n",
    "    data[col] = le.fit_transform(data[col])\n",
    "\n",
    "print(data.head())"
   ]
  },
  {
   "cell_type": "code",
   "execution_count": 23,
   "id": "287f3804",
   "metadata": {},
   "outputs": [
    {
     "name": "stdout",
     "output_type": "stream",
     "text": [
      "   merchant  category     amt  city  state    zip      lat      long  \\\n",
      "0       597         8  110.33    95     26  59014  45.2857 -108.9082   \n",
      "1       105        11   84.46    26     35  44804  41.1116  -83.5020   \n",
      "2       644         0   81.11   684     33  89512  39.5483 -119.7957   \n",
      "3       629         9    3.99   252     32  87533  35.9866 -106.0654   \n",
      "4       112         7   22.24   451     12  51453  42.2619  -94.5566   \n",
      "\n",
      "   city_pop  job  merch_lat  merch_long  is_fraud  hour  day_of_week  month  \\\n",
      "0      1446   70  45.694334 -109.066810         0     5            0      5   \n",
      "1      1202  114  41.863732  -83.054106         0     5            3      8   \n",
      "2    276896  242  39.604061 -120.531486         0    14            0      9   \n",
      "3     18408  226  36.546189 -105.428412         0    19            3      9   \n",
      "4       695    6  41.690108  -93.584278         0    17            5      4   \n",
      "\n",
      "   age      dist  gender_F  gender_M  \n",
      "0   41  0.438336     False      True  \n",
      "1   86  0.875392     False      True  \n",
      "2   22  0.737896     False      True  \n",
      "3   47  0.847876     False      True  \n",
      "4   66  1.127988     False      True  \n"
     ]
    }
   ],
   "source": [
    "#Label Encoding for high cardinality categorical variables ('merchant', 'city', 'state', 'job')\n",
    "from sklearn.preprocessing import LabelEncoder\n",
    "for col in high_cardinality:\n",
    "    le = LabelEncoder()  # New encoder for each column\n",
    "    data[col] = le.fit_transform(data[col])\n",
    "print(data.head())"
   ]
  },
  {
   "cell_type": "code",
   "execution_count": 24,
   "id": "1b485398",
   "metadata": {},
   "outputs": [],
   "source": [
    "#Split the data into features and target variable\n",
    "X = data.drop(columns=['is_fraud'])\n",
    "y = data['is_fraud']\n",
    "\n",
    "# Train-test split\n",
    "from sklearn.model_selection import train_test_split\n",
    "X_train, X_test, y_train, y_test = train_test_split(X, y, test_size=0.2, stratify=y, random_state=42)\n"
   ]
  },
  {
   "cell_type": "code",
   "execution_count": 25,
   "id": "5bf6959a",
   "metadata": {},
   "outputs": [
    {
     "name": "stdout",
     "output_type": "stream",
     "text": [
      "Index(['merchant', 'category', 'amt', 'city', 'state', 'zip', 'lat', 'long',\n",
      "       'city_pop', 'job', 'merch_lat', 'merch_long', 'is_fraud', 'hour',\n",
      "       'day_of_week', 'month', 'age', 'dist', 'gender_F', 'gender_M'],\n",
      "      dtype='object')\n"
     ]
    }
   ],
   "source": [
    "print(data.columns)"
   ]
  },
  {
   "cell_type": "code",
   "execution_count": 26,
   "id": "b5ee601f",
   "metadata": {},
   "outputs": [],
   "source": [
    "#Scaling numerial features\n",
    "numerical_cols = ['amt','zip','lat', 'long','city_pop', 'merch_lat', 'merch_long', 'age', 'dist', 'hour', 'day_of_week', 'month']\n",
    "\n",
    "from sklearn.compose import ColumnTransformer\n",
    "preprocessor = ColumnTransformer(\n",
    "    transformers=[\n",
    "        ('num', StandardScaler(), numerical_cols)\n",
    "    ], remainder='passthrough'\n",
    ")\n"
   ]
  },
  {
   "cell_type": "code",
   "execution_count": 27,
   "id": "eda9966c",
   "metadata": {},
   "outputs": [],
   "source": [
    "rf_pipe= ImbPipeline([\n",
    "    ('preprocessor', preprocessor),\n",
    "    ('smote', SMOTE(random_state=42)),\n",
    "    ('clf', RandomForestClassifier(random_state=42,n_jobs=1))\n",
    "])"
   ]
  },
  {
   "cell_type": "markdown",
   "id": "a4d98660",
   "metadata": {},
   "source": [
    "GridSearchCv for hyperparameter tuning"
   ]
  },
  {
   "cell_type": "code",
   "execution_count": 28,
   "id": "eb8207d1",
   "metadata": {},
   "outputs": [
    {
     "name": "stdout",
     "output_type": "stream",
     "text": [
      "Fitting 5 folds for each of 18 candidates, totalling 90 fits\n",
      "RF best params: {'clf__max_depth': None, 'clf__min_samples_split': 2, 'clf__n_estimators': 100}\n"
     ]
    }
   ],
   "source": [
    "#Random Forest Classifier\n",
    "\n",
    "from sklearn.model_selection import GridSearchCV\n",
    "from sklearn.model_selection import StratifiedKFold\n",
    "\n",
    "rf_param_grid = {\n",
    "    'clf__n_estimators': [50,100,200],\n",
    "    'clf__max_depth': [None, 10, 20],\n",
    "    'clf__min_samples_split': [2, 5]\n",
    "}\n",
    "cv=StratifiedKFold(n_splits=5, shuffle=True, random_state=42)\n",
    "\n",
    "rf_search = GridSearchCV(rf_pipe, rf_param_grid,cv=cv, scoring='f1',\n",
    "                         n_jobs=-1,verbose=2, refit=True)\n",
    "\n",
    "rf_search.fit(X_train, y_train)\n",
    "print(\"RF best params:\", rf_search.best_params_)\n"
   ]
  },
  {
   "cell_type": "code",
   "execution_count": 29,
   "id": "b45d3e82",
   "metadata": {},
   "outputs": [],
   "source": [
    "# #XGBoost Classifier\n",
    "\n",
    "# xgb_pipe = ImbPipeline([\n",
    "#     ('smote', SMOTE(random_state=42)),\n",
    "#     ('clf', XGBClassifier(use_label_encoder=False, eval_metric='logloss', random_state=42))\n",
    "# ])\n",
    "\n",
    "# xgb_param_grid = {\n",
    "#     'clf__n_estimators': [100,200, 300],\n",
    "#     'clf__max_depth': [3, 6],\n",
    "#     'clf__learning_rate': [0.1, 0.01]\n",
    "# }\n",
    "\n",
    "# xgb_search = GridSearchCV(xgb_pipe, xgb_param_grid, cv=5, scoring='f1',\n",
    "#                           n_jobs=-1, verbose=2)\n",
    "# xgb_search.fit(X_train, y_train)\n",
    "# print(\"XGB best params:\", xgb_search.best_params_)"
   ]
  },
  {
   "cell_type": "code",
   "execution_count": 30,
   "id": "e0c493e5",
   "metadata": {},
   "outputs": [],
   "source": [
    "# #LightGBM Classifier\n",
    "\n",
    "# lgbm_pipe = ImbPipeline([\n",
    "#     ('preprocessor', preprocessor),\n",
    "#     ('smote', SMOTE(random_state=42)),\n",
    "#     ('clf', LGBMClassifier(random_state=42))\n",
    "# ])\n",
    "\n",
    "# lgbm_param_grid = {\n",
    "#     'clf__n_estimators': [100, 300],\n",
    "#     'clf__num_leaves': [31, 63],\n",
    "#     'clf__learning_rate': [0.1, 0.01]\n",
    "# }\n",
    "\n",
    "# lgbm_search = GridSearchCV(lgbm_pipe, lgbm_param_grid, cv=5, scoring='f1',\n",
    "#                            n_jobs=-1, verbose=2)\n",
    "# lgbm_search.fit(X_train, y_train)\n",
    "# print(\"LGBM best params:\", lgbm_search.best_params_)"
   ]
  },
  {
   "cell_type": "code",
   "execution_count": 31,
   "id": "2eb678d6",
   "metadata": {},
   "outputs": [],
   "source": [
    "from sklearn.metrics import accuracy_score, f1_score, precision_score, recall_score, roc_auc_score, classification_report"
   ]
  },
  {
   "cell_type": "code",
   "execution_count": 32,
   "id": "ca55b45c",
   "metadata": {},
   "outputs": [],
   "source": [
    "best_rf_model = rf_search.best_estimator_\n",
    "\n",
    "#Evaluate on test set\n",
    "y_pred = best_rf_model.predict(X_test)\n",
    "y_prob = best_rf_model.predict_proba(X_test)[:, 1] if hasattr(best_rf_model,\"predict_proba\")else None\n"
   ]
  },
  {
   "cell_type": "code",
   "execution_count": 33,
   "id": "9c996779",
   "metadata": {},
   "outputs": [
    {
     "name": "stdout",
     "output_type": "stream",
     "text": [
      "Accuracy=0.9822, F1=0.8706, Precision=0.8856, Recall=0.8561\n",
      "ROC AUC=0.9881\n"
     ]
    }
   ],
   "source": [
    " # Calculate metrics\n",
    "accuracy = accuracy_score(y_test, y_pred)\n",
    "f1 = f1_score(y_test, y_pred)\n",
    "precision = precision_score(y_test, y_pred)\n",
    "recall = recall_score(y_test, y_pred)\n",
    "if y_prob is not None:\n",
    "    roc_auc = roc_auc_score(y_test, y_prob)\n",
    "else:\n",
    "    roc_auc = None\n",
    "\n",
    "print(f\"Accuracy={accuracy:.4f}, F1={f1:.4f}, Precision={precision:.4f}, Recall={recall:.4f}\")\n",
    "if roc_auc is not None:\n",
    "    print(f\"ROC AUC={roc_auc:.4f}\")"
   ]
  },
  {
   "cell_type": "code",
   "execution_count": 34,
   "id": "f01ae9fa",
   "metadata": {},
   "outputs": [
    {
     "name": "stderr",
     "output_type": "stream",
     "text": [
      "2025/09/25 19:19:01 INFO mlflow.tracking.fluent: Experiment with name 'Random_Forest_Credit_Card_Fraud_Detections' does not exist. Creating a new experiment.\n"
     ]
    },
    {
     "name": "stdout",
     "output_type": "stream",
     "text": [
      "🏃 View run hilarious-sheep-490 at: http://127.0.0.1:5000/#/experiments/532648492793945504/runs/df34e41807714351a8085b42dbae2a8a\n",
      "🧪 View experiment at: http://127.0.0.1:5000/#/experiments/532648492793945504\n"
     ]
    }
   ],
   "source": [
    "#Tracking experiments with MLflow\n",
    "import joblib\n",
    "import mlflow\n",
    "import mlflow.sklearn\n",
    "\n",
    "best_rf = rf_search.best_estimator_\n",
    "\n",
    "#Log wiwth MLflow\n",
    "mlflow.set_experiment(\"Random_Forest_Credit_Card_Fraud_Detections\")\n",
    "mlflow.set_tracking_uri(\"http://127.0.0.1:5000\")\n",
    "\n",
    "\n",
    "with mlflow.start_run():\n",
    "    \n",
    "    # log best params\n",
    "    mlflow.log_params(rf_search.best_params_)\n",
    "   \n",
    "    # log metrics\n",
    "    mlflow.log_metric(\"accuracy\", accuracy)\n",
    "    mlflow.log_metric(\"f1_score\", f1)\n",
    "    mlflow.log_metric(\"precision\", precision)\n",
    "    mlflow.log_metric(\"recall\", recall)\n",
    "    if roc_auc is not None:\n",
    "        mlflow.log_metric(\"roc_auc\", roc_auc)       \n"
   ]
  },
  {
   "cell_type": "code",
   "execution_count": 35,
   "id": "76bfc0cd",
   "metadata": {},
   "outputs": [
    {
     "data": {
      "image/png": "[encoded data removed]",
      "text/plain": [
       "<Figure size 800x600 with 1 Axes>"
      ]
     },
     "metadata": {},
     "output_type": "display_data"
    },
    {
     "data": {
      "text/plain": [
       "<Figure size 640x480 with 0 Axes>"
      ]
     },
     "metadata": {},
     "output_type": "display_data"
    }
   ],
   "source": [
    "#Feature importance \n",
    "# visualize feature importance for RandomForest\n",
    "\n",
    "# get the classifier inside the pipeline\n",
    "clf = rf_search.best_estimator_.named_steps['clf']\n",
    "\n",
    "# if using pandas DataFrame for X:\n",
    "feature_names = X_train.columns.tolist()\n",
    "\n",
    "importances = clf.feature_importances_\n",
    "# sort\n",
    "idx = np.argsort(importances)[::-1]\n",
    "top_n = 20  # change as needed\n",
    "\n",
    "plt.figure(figsize=(8,6))\n",
    "plt.barh([feature_names[i] for i in idx[:top_n]][::-1], importances[idx][:top_n][::-1])\n",
    "plt.xlabel(\"Feature importance\")\n",
    "plt.title(\"Top features - RandomForest\")\n",
    "plt.tight_layout()\n",
    "plt.show()\n",
    "# optionally save\n",
    "plt.savefig(\"rf_feature_importance.png\")\n"
   ]
  },
  {
   "cell_type": "code",
   "execution_count": 36,
   "id": "916281fb",
   "metadata": {},
   "outputs": [
    {
     "data": {
      "text/plain": [
       "<Figure size 640x480 with 0 Axes>"
      ]
     },
     "metadata": {},
     "output_type": "display_data"
    },
    {
     "data": {
      "image/png": "[encoded data removed]",
      "text/plain": [
       "<Figure size 1150x660 with 1 Axes>"
      ]
     },
     "metadata": {},
     "output_type": "display_data"
    }
   ],
   "source": [
    "import shap\n",
    "import matplotlib.pyplot as plt\n",
    "\n",
    "# Take only the classifier (not pipeline steps)\n",
    "rf_model = rf_search.best_estimator_.named_steps['clf']\n",
    "\n",
    "X_shap = X_test.sample(1000, random_state=42)  # sample for speed\n",
    "explainer = shap.TreeExplainer(rf_model,feature_perturbation=\"tree_path_dependent\")\n",
    "shap_values = explainer.shap_values(X_shap,approximate=True)\n",
    "if isinstance(shap_values, list):  \n",
    "    shap_vals = shap_values[1]   # positive class\n",
    "else:\n",
    "    shap_vals = shap_values\n",
    "\n",
    "shap.summary_plot(shap_vals, X_shap, plot_type=\"bar\", show=False)\n",
    "plt.tight_layout()\n",
    "plt.savefig(\"shap_summary.png\")\n",
    "plt.show()\n"
   ]
  }
 ],
 "metadata": {
  "kernelspec": {
   "display_name": "tf-gpu",
   "language": "python",
   "name": "python3"
  },
  "language_info": {
   "codemirror_mode": {
    "name": "ipython",
    "version": 3
   },
   "file_extension": ".py",
   "mimetype": "text/x-python",
   "name": "python",
   "nbconvert_exporter": "python",
   "pygments_lexer": "ipython3",
   "version": "3.10.18"
  }
 },
 "nbformat": 4,
 "nbformat_minor": 5
}
